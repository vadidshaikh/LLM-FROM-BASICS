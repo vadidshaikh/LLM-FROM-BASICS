{
  "cells": [
    {
      "cell_type": "markdown",
      "metadata": {
        "id": "WdsRnKMjB26F"
      },
      "source": [
        "# Chapter 2.1 — Self-Attention Explained\n",
        "\n",
        "Companion medium article: https://medium.com/@vadidsadikshaikh/chapter-2-0-attention-is-all-you-need-f6c4dae9b0e3\n",
        "\n",
        "In this notebook, we implement scaled dot-product self-attention, the core mechanism of the Transformer architecture introduced in *Vaswani et al., 2017 — Attention Is All You Need*.\n",
        "\n",
        "We will build intuition and verify how queries, keys, and values interact to form contextual token representations."
      ],
      "id": "WdsRnKMjB26F"
    },
    {
      "cell_type": "code",
      "execution_count": 1,
      "metadata": {
        "id": "wF52MO1-B26G",
        "outputId": "4665883a-2e56-4742-a2d8-dc53c150f417",
        "colab": {
          "base_uri": "https://localhost:8080/"
        }
      },
      "outputs": [
        {
          "output_type": "execute_result",
          "data": {
            "text/plain": [
              "<torch._C.Generator at 0x7a7f2c124db0>"
            ]
          },
          "metadata": {},
          "execution_count": 1
        }
      ],
      "source": [
        "import torch\n",
        "import torch.nn.functional as F\n",
        "import matplotlib.pyplot as plt\n",
        "\n",
        "torch.manual_seed(0)"
      ],
      "id": "wF52MO1-B26G"
    },
    {
      "cell_type": "markdown",
      "metadata": {
        "id": "PpVWQLxdB26H"
      },
      "source": [
        "## 1. Input Embeddings (Dummy Example)\n",
        "\n",
        "We will create a small batch of embeddings to simulate three tokens in one sequence."
      ],
      "id": "PpVWQLxdB26H"
    },
    {
      "cell_type": "code",
      "execution_count": 2,
      "metadata": {
        "id": "1Q6e8HBjB26H",
        "outputId": "5c953a52-6382-4553-ca70-af41cab8b670",
        "colab": {
          "base_uri": "https://localhost:8080/"
        }
      },
      "outputs": [
        {
          "output_type": "execute_result",
          "data": {
            "text/plain": [
              "tensor([[[ 1.5410, -0.2934, -2.1788,  0.5684],\n",
              "         [-1.0845, -1.3986,  0.4033,  0.8380],\n",
              "         [-0.7193, -0.4033, -0.5966,  0.1820]]])"
            ]
          },
          "metadata": {},
          "execution_count": 2
        }
      ],
      "source": [
        "batch_size = 1\n",
        "seq_len = 3\n",
        "d_model = 4  # embedding dimension\n",
        "\n",
        "x = torch.randn(batch_size, seq_len, d_model)\n",
        "x"
      ],
      "id": "1Q6e8HBjB26H"
    },
    {
      "cell_type": "markdown",
      "metadata": {
        "id": "Encv1Cy0B26H"
      },
      "source": [
        "## 2. Linear Projections: Queries (Q), Keys (K), Values (V)\n",
        "\n",
        "Each token produces a Query, Key, and Value vector using learnable linear transformations."
      ],
      "id": "Encv1Cy0B26H"
    },
    {
      "cell_type": "code",
      "execution_count": 3,
      "metadata": {
        "id": "izIMoBXiB26H",
        "outputId": "914d7628-c19e-4fda-bc34-feaa405c2684",
        "colab": {
          "base_uri": "https://localhost:8080/"
        }
      },
      "outputs": [
        {
          "output_type": "execute_result",
          "data": {
            "text/plain": [
              "(torch.Size([1, 3, 4]), torch.Size([1, 3, 4]), torch.Size([1, 3, 4]))"
            ]
          },
          "metadata": {},
          "execution_count": 3
        }
      ],
      "source": [
        "W_Q = torch.nn.Linear(d_model, d_model, bias=False)\n",
        "W_K = torch.nn.Linear(d_model, d_model, bias=False)\n",
        "W_V = torch.nn.Linear(d_model, d_model, bias=False)\n",
        "\n",
        "Q = W_Q(x)\n",
        "K = W_K(x)\n",
        "V = W_V(x)\n",
        "\n",
        "Q.shape, K.shape, V.shape"
      ],
      "id": "izIMoBXiB26H"
    },
    {
      "cell_type": "markdown",
      "metadata": {
        "id": "ORp6sGKDB26I"
      },
      "source": [
        "## 3. Scaled Dot-Product Attention\n",
        "\n",
        "We compute similarity between Queries and Keys, scale by √d_k, apply softmax, then weight the Values."
      ],
      "id": "ORp6sGKDB26I"
    },
    {
      "cell_type": "code",
      "execution_count": 4,
      "metadata": {
        "id": "-artNotMB26I",
        "outputId": "26dca741-d1e1-4053-f152-4457abe21a57",
        "colab": {
          "base_uri": "https://localhost:8080/"
        }
      },
      "outputs": [
        {
          "output_type": "stream",
          "name": "stdout",
          "text": [
            "Attention weights:\n",
            " tensor([[[0.3484, 0.3430, 0.3087],\n",
            "         [0.1911, 0.4861, 0.3228],\n",
            "         [0.2104, 0.4680, 0.3216]]], grad_fn=<SoftmaxBackward0>)\n",
            "\n",
            "Output representations:\n",
            " tensor([[[ 0.4075,  0.1652,  0.0763, -0.1460],\n",
            "         [ 0.2871, -0.0702, -0.0142, -0.5062],\n",
            "         [ 0.3020, -0.0410, -0.0032, -0.4614]]], grad_fn=<UnsafeViewBackward0>)\n"
          ]
        }
      ],
      "source": [
        "d_k = K.size(-1)\n",
        "scores = torch.matmul(Q, K.transpose(-2, -1)) / d_k**0.5\n",
        "attn = F.softmax(scores, dim=-1)\n",
        "output = torch.matmul(attn, V)\n",
        "\n",
        "print('Attention weights:\\n', attn)\n",
        "print('\\nOutput representations:\\n', output)"
      ],
      "id": "-artNotMB26I"
    },
    {
      "cell_type": "markdown",
      "metadata": {
        "id": "WZZzgbujB26I"
      },
      "source": [
        "## 4. Visualize Attention Weights\n",
        "\n",
        "We can visualize how each token attends to others using a heatmap."
      ],
      "id": "WZZzgbujB26I"
    },
    {
      "cell_type": "code",
      "execution_count": 5,
      "metadata": {
        "id": "mN1P3gcSB26I",
        "outputId": "853904eb-c35b-4c09-d46a-be3a736b0038",
        "colab": {
          "base_uri": "https://localhost:8080/",
          "height": 472
        }
      },
      "outputs": [
        {
          "output_type": "display_data",
          "data": {
            "text/plain": [
              "<Figure size 640x480 with 2 Axes>"
            ],
            "image/png": "[encoded data removed]"
          },
          "metadata": {}
        }
      ],
      "source": [
        "plt.imshow(attn[0].detach(), cmap='viridis')\n",
        "plt.colorbar(label='attention weight')\n",
        "plt.xlabel('Key tokens')\n",
        "plt.ylabel('Query tokens')\n",
        "plt.title('Self-Attention Heatmap')\n",
        "plt.show()"
      ],
      "id": "mN1P3gcSB26I"
    },
    {
      "cell_type": "markdown",
      "metadata": {
        "id": "dbjJ8g1ZB26I"
      },
      "source": [
        "## 5. Interpretation\n",
        "\n",
        "- Each row of the heatmap corresponds to one query token.\n",
        "- Bright cells indicate which key tokens that query attends to most strongly.\n",
        "- The output vector for each token is a weighted mixture of the value vectors, enabling contextual understanding.\n",
        "\n",
        "This simple block scales into multi-head attention and full Transformer layers."
      ],
      "id": "dbjJ8g1ZB26I"
    },
    {
      "cell_type": "markdown",
      "metadata": {
        "id": "Bz5R2QfSB26I"
      },
      "source": [
        "### References\n",
        "- Vaswani et al., *Attention Is All You Need*, 2017\n",
        "- Sebastian Raschka, *Build a Large Language Model (From Scratch)*, Chapter 6"
      ],
      "id": "Bz5R2QfSB26I"
    }
  ],
  "metadata": {
    "kernelspec": {
      "display_name": "Python 3",
      "language": "python",
      "name": "python3"
    },
    "language_info": {
      "name": "python",
      "version": "3.10"
    },
    "colab": {
      "provenance": []
    }
  },
  "nbformat": 4,
  "nbformat_minor": 5
}
