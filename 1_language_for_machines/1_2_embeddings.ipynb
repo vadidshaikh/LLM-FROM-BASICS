{
  "cells": [
    {
      "cell_type": "markdown",
      "metadata": {
        "id": "BuX6fwqnZ39p"
      },
      "source": [
        "# Chapter 1.2 — Embeddings: Giving Tokens Meaning\n",
        "\n",
        "*Establishing relationships between words through meaning*\n",
        "\n",
        "Companion article: https://medium.com/@vadidsadikshaikh/chapter-1-2-embeddings-giving-tokens-meaning\n",
        "Reference: Sebastian Raschka, *Build a Large Language Model (From Scratch)*\n",
        "\n",
        "Purpose: implement a simple embedding lookup using PyTorch and visualize how token IDs map to vectors."
      ],
      "id": "BuX6fwqnZ39p"
    },
    {
      "cell_type": "markdown",
      "metadata": {
        "id": "krTs6_y8Z39r"
      },
      "source": [
        "## Why embeddings?\n",
        "\n",
        "Tokenization turns text into integers. Embeddings turn those integers into **dense vectors** that encode semantic relationships. In this notebook we:\n",
        "\n",
        "1. Encode a short sentence with the same `tiktoken` tokenizer used in Chapter 1.1.\n",
        "2. Create a PyTorch `nn.Embedding` layer and map token IDs to vectors.\n",
        "3. Inspect shapes and a truncated vector sample.\n",
        "4. (Optional) Visualize a small set of token vectors in 2D using PCA."
      ],
      "id": "krTs6_y8Z39r"
    },
    {
      "cell_type": "code",
      "execution_count": 1,
      "metadata": {
        "id": "RHW7NpRPZ39r"
      },
      "outputs": [],
      "source": [
        "# Imports\n",
        "import tiktoken\n",
        "import torch\n",
        "import torch.nn as nn\n",
        "import numpy as np\n",
        "import matplotlib.pyplot as plt\n",
        "\n",
        "# PCA for visualization (optional). If sklearn is not available, the cell will try a simple SVD fallback.\n",
        "try:\n",
        "    from sklearn.decomposition import PCA\n",
        "    _HAS_SKLEARN = True\n",
        "except Exception:\n",
        "    _HAS_SKLEARN = False\n",
        "    from math import sqrt\n"
      ],
      "id": "RHW7NpRPZ39r"
    },
    {
      "cell_type": "code",
      "execution_count": 2,
      "metadata": {
        "colab": {
          "base_uri": "https://localhost:8080/"
        },
        "id": "HkCJnrXjZ39s",
        "outputId": "f6190cb9-9237-4858-f5fa-0b5e0bcca332"
      },
      "outputs": [
        {
          "output_type": "stream",
          "name": "stdout",
          "text": [
            "Loaded tokenizer: gpt2\n",
            "Vocab size: 50257\n"
          ]
        }
      ],
      "source": [
        "# Initialize tokenizer (GPT-2 BPE encoding) — same as Chapter 1.1\n",
        "tokenizer = tiktoken.get_encoding(\"gpt2\")\n",
        "print(\"Loaded tokenizer:\", \"gpt2\")\n",
        "print(\"Vocab size:\", getattr(tokenizer, 'n_vocab', None))\n"
      ],
      "id": "HkCJnrXjZ39s"
    },
    {
      "cell_type": "code",
      "execution_count": 3,
      "metadata": {
        "colab": {
          "base_uri": "https://localhost:8080/"
        },
        "id": "U7w82xy8Z39t",
        "outputId": "b31829a4-019d-40f1-9baa-3eaac29f37c8"
      },
      "outputs": [
        {
          "output_type": "stream",
          "name": "stdout",
          "text": [
            "Text:\n",
            " Large language models read the world as numbers.\n",
            "\n",
            "Token IDs:\n",
            " [21968, 3303, 4981, 1100, 262, 995, 355, 3146, 13]\n",
            "Number of tokens: 9\n"
          ]
        }
      ],
      "source": [
        "# Sample text and tokenization\n",
        "text = \"Large language models read the world as numbers.\"\n",
        "token_ids = tokenizer.encode(text)\n",
        "print(\"Text:\\n\", text)\n",
        "print(\"\\nToken IDs:\\n\", token_ids)\n",
        "print(\"Number of tokens:\", len(token_ids))\n"
      ],
      "id": "U7w82xy8Z39t"
    },
    {
      "cell_type": "code",
      "execution_count": 4,
      "metadata": {
        "colab": {
          "base_uri": "https://localhost:8080/"
        },
        "id": "Cv1GJt6sZ39t",
        "outputId": "068894a4-d649-4325-81fc-be3ed5db41a3"
      },
      "outputs": [
        {
          "output_type": "stream",
          "name": "stdout",
          "text": [
            "Embeddings shape: torch.Size([1, 9, 128])\n",
            "First token vector (first 10 dims): [ 2.5927591e-01  1.0888697e-01  1.1611025e+00  7.8577268e-01\n",
            " -6.8887126e-01 -1.1311740e-03  2.0789585e+00 -1.8160914e+00\n",
            "  2.9695079e-01 -8.0494636e-01]\n"
          ]
        }
      ],
      "source": [
        "# Create an embedding layer\n",
        "vocab_size = getattr(tokenizer, 'n_vocab', 50257)\n",
        "embedding_dim = 128   # smaller dim for demo; later you can set 768 or 1024\n",
        "\n",
        "embedding_layer = nn.Embedding(vocab_size, embedding_dim)\n",
        "\n",
        "# Convert token ids to a tensor (batch size 1)\n",
        "ids_tensor = torch.tensor([token_ids], dtype=torch.long)\n",
        "\n",
        "# Forward pass through embedding\n",
        "embeddings = embedding_layer(ids_tensor)  # shape: (1, seq_len, embedding_dim)\n",
        "print(\"Embeddings shape:\", embeddings.shape)\n",
        "print(\"First token vector (first 10 dims):\", embeddings[0, 0, :10].detach().numpy())\n"
      ],
      "id": "Cv1GJt6sZ39t"
    },
    {
      "cell_type": "code",
      "execution_count": 5,
      "metadata": {
        "colab": {
          "base_uri": "https://localhost:8080/",
          "height": 407
        },
        "id": "8S1PyRBTZ39t",
        "outputId": "8db067a0-551d-4905-acb2-c2c4191aad10"
      },
      "outputs": [
        {
          "output_type": "display_data",
          "data": {
            "text/plain": [
              "<Figure size 600x400 with 1 Axes>"
            ],
            "image/png": "[encoded data removed]"
          },
          "metadata": {}
        }
      ],
      "source": [
        "# Visualize (PCA) — only do this for a small set of tokens to keep plot readable\n",
        "def compute_2d_projection(vectors_np):\n",
        "    if _HAS_SKLEARN:\n",
        "        pca = PCA(n_components=2)\n",
        "        return pca.fit_transform(vectors_np)\n",
        "    else:\n",
        "        # simple SVD fallback\n",
        "        X = vectors_np - vectors_np.mean(axis=0)\n",
        "        U, S, Vt = np.linalg.svd(X, full_matrices=False)\n",
        "        return U[:, :2]\n",
        "\n",
        "# choose tokens to visualize: unique tokens from the sentence\n",
        "unique_ids = list(dict.fromkeys(token_ids))\n",
        "vecs = embeddings[0].detach().numpy()  # shape: (seq_len, embedding_dim)\n",
        "to_plot = np.array([vecs[i] for i in range(len(unique_ids))])\n",
        "proj = compute_2d_projection(to_plot)\n",
        "\n",
        "plt.figure(figsize=(6,4))\n",
        "plt.scatter(proj[:,0], proj[:,1])\n",
        "for i, tid in enumerate(unique_ids):\n",
        "    token_str = tokenizer.decode([tid]).strip()\n",
        "    plt.annotate(token_str, (proj[i,0], proj[i,1]), textcoords='offset points', xytext=(4,3), ha='left', fontsize=9)\n",
        "plt.title('PCA projection of token embeddings (sample)')\n",
        "plt.xlabel('PC1')\n",
        "plt.ylabel('PC2')\n",
        "plt.grid(alpha=0.2)\n",
        "plt.tight_layout()\n",
        "plt.show()\n"
      ],
      "id": "8S1PyRBTZ39t"
    },
    {
      "cell_type": "markdown",
      "metadata": {
        "id": "9u6HraysZ39t"
      },
      "source": [
        "## Notes & Next Steps\n",
        "\n",
        "- This notebook demonstrates a minimal PyTorch `nn.Embedding` layer and how token IDs map to vectors.\n",
        "- `embedding_dim` is set to 128 for demo speed — for real models you will typically see 512, 768, or 1024+.\n",
        "- These embeddings are **learnable** (randomly initialized here). During training the embedding weights update to capture semantics.\n",
        "- Next: in Chapter 1.3 we will add **positional encoding** so the model knows token order, then move on to attention mechanisms."
      ],
      "id": "9u6HraysZ39t"
    }
  ],
  "metadata": {
    "kernelspec": {
      "display_name": "Python 3",
      "language": "python",
      "name": "python3"
    },
    "language_info": {
      "name": "python",
      "version": "3.11"
    },
    "colab": {
      "provenance": []
    }
  },
  "nbformat": 4,
  "nbformat_minor": 5
}