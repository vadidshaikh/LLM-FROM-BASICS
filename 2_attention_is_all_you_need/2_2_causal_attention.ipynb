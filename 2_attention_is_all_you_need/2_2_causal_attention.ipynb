{
  "cells": [
    {
      "cell_type": "markdown",
      "metadata": {
        "id": "d9822dbbi7pq"
      },
      "source": [
        "# Chapter 2.2 — Causal Attention: Why GPT Doesn’t Peek Ahead\n",
        "\n",
        "Companion Medium Article: https://medium.com/@vadidsadikshaikh/chapter-2-2-causal-attention-why-gpt-doesnt-peek-ahead-7172f8e98426\n",
        "\n",
        "This notebook demonstrates **causal (masked) self-attention**, which ensures that autoregressive models such as GPT generate tokens sequentially without looking at future positions.\n",
        "\n",
        "Reference: Vaswani et al., *Attention Is All You Need* (2017) and Sebastian Raschka, *Build a Large Language Model (From Scratch)*, Chapter 6."
      ],
      "id": "d9822dbbi7pq"
    },
    {
      "cell_type": "code",
      "execution_count": 1,
      "metadata": {
        "colab": {
          "base_uri": "https://localhost:8080/"
        },
        "id": "fA4e-xGCi7pt",
        "outputId": "bba7c93b-aca6-49b4-9ebf-38f65f8f9b7b"
      },
      "outputs": [
        {
          "output_type": "execute_result",
          "data": {
            "text/plain": [
              "<torch._C.Generator at 0x7e8a81c94c70>"
            ]
          },
          "metadata": {},
          "execution_count": 1
        }
      ],
      "source": [
        "import torch\n",
        "import torch.nn.functional as F\n",
        "import matplotlib.pyplot as plt\n",
        "\n",
        "torch.manual_seed(0)"
      ],
      "id": "fA4e-xGCi7pt"
    },
    {
      "cell_type": "markdown",
      "metadata": {
        "id": "Q9oGBrbWi7pu"
      },
      "source": [
        "## 1. Setup — Input Embeddings\n",
        "\n",
        "We use a small batch of dummy embeddings to simulate tokens in a sequence. Each token will only attend to previous ones and itself."
      ],
      "id": "Q9oGBrbWi7pu"
    },
    {
      "cell_type": "code",
      "execution_count": 2,
      "metadata": {
        "colab": {
          "base_uri": "https://localhost:8080/"
        },
        "id": "bo9-9SNYi7pv",
        "outputId": "09f2acdf-30d5-4067-f2f4-a48b2ccf266e"
      },
      "outputs": [
        {
          "output_type": "execute_result",
          "data": {
            "text/plain": [
              "tensor([[[-1.1258, -1.1524, -0.2506, -0.4339],\n",
              "         [ 0.8487,  0.6920, -0.3160, -2.1152],\n",
              "         [ 0.3223, -1.2633,  0.3500,  0.3081],\n",
              "         [ 0.1198,  1.2377,  1.1168, -0.2473]]])"
            ]
          },
          "metadata": {},
          "execution_count": 2
        }
      ],
      "source": [
        "batch_size = 1\n",
        "seq_len = 4\n",
        "d_model = 4\n",
        "\n",
        "x = torch.randn(batch_size, seq_len, d_model)\n",
        "x"
      ],
      "id": "bo9-9SNYi7pv"
    },
    {
      "cell_type": "markdown",
      "metadata": {
        "id": "Zzjs1II5i7pv"
      },
      "source": [
        "## 2. Linear Projections for Queries, Keys, and Values"
      ],
      "id": "Zzjs1II5i7pv"
    },
    {
      "cell_type": "code",
      "execution_count": 3,
      "metadata": {
        "colab": {
          "base_uri": "https://localhost:8080/"
        },
        "id": "yNzhc7MVi7pv",
        "outputId": "d51c8b43-471d-46eb-b0fb-22b01160dea6"
      },
      "outputs": [
        {
          "output_type": "execute_result",
          "data": {
            "text/plain": [
              "(torch.Size([1, 4, 4]), torch.Size([1, 4, 4]), torch.Size([1, 4, 4]))"
            ]
          },
          "metadata": {},
          "execution_count": 3
        }
      ],
      "source": [
        "W_Q = torch.nn.Linear(d_model, d_model, bias=False)\n",
        "W_K = torch.nn.Linear(d_model, d_model, bias=False)\n",
        "W_V = torch.nn.Linear(d_model, d_model, bias=False)\n",
        "\n",
        "Q = W_Q(x)\n",
        "K = W_K(x)\n",
        "V = W_V(x)\n",
        "\n",
        "Q.shape, K.shape, V.shape"
      ],
      "id": "yNzhc7MVi7pv"
    },
    {
      "cell_type": "markdown",
      "metadata": {
        "id": "NQkHgoCGi7pv"
      },
      "source": [
        "## 3. Create the Causal Mask\n",
        "\n",
        "A causal mask ensures that each token can only attend to itself and the tokens that came before it. Future tokens are masked (set to negative infinity)."
      ],
      "id": "NQkHgoCGi7pv"
    },
    {
      "cell_type": "code",
      "execution_count": 4,
      "metadata": {
        "colab": {
          "base_uri": "https://localhost:8080/"
        },
        "id": "b6BsjKXdi7pv",
        "outputId": "7bcccd4e-fef7-47dd-9816-b174969bb77b"
      },
      "outputs": [
        {
          "output_type": "execute_result",
          "data": {
            "text/plain": [
              "tensor([[1., 0., 0., 0.],\n",
              "        [1., 1., 0., 0.],\n",
              "        [1., 1., 1., 0.],\n",
              "        [1., 1., 1., 1.]])"
            ]
          },
          "metadata": {},
          "execution_count": 4
        }
      ],
      "source": [
        "mask = torch.tril(torch.ones(seq_len, seq_len))  # lower-triangular matrix\n",
        "mask"
      ],
      "id": "b6BsjKXdi7pv"
    },
    {
      "cell_type": "markdown",
      "metadata": {
        "id": "CKF763Fni7pw"
      },
      "source": [
        "## 4. Apply Masked Scaled Dot-Product Attention\n",
        "\n",
        "We compute attention scores and apply the mask before softmax. Positions corresponding to future tokens are set to `-inf` so their weights become zero after the softmax step."
      ],
      "id": "CKF763Fni7pw"
    },
    {
      "cell_type": "code",
      "execution_count": 5,
      "metadata": {
        "colab": {
          "base_uri": "https://localhost:8080/"
        },
        "id": "xTbdIbNdi7pw",
        "outputId": "2c0699ce-82f1-42eb-debf-50c27ad08fd1"
      },
      "outputs": [
        {
          "output_type": "stream",
          "name": "stdout",
          "text": [
            "Attention weights (masked):\n",
            " tensor([[[1.0000, 0.0000, 0.0000, 0.0000],\n",
            "         [0.2526, 0.7474, 0.0000, 0.0000],\n",
            "         [0.3018, 0.2972, 0.4011, 0.0000],\n",
            "         [0.2149, 0.3615, 0.1914, 0.2321]]], grad_fn=<SoftmaxBackward0>)\n",
            "\n",
            "Output representations:\n",
            " tensor([[[-0.0254, -0.2575,  0.5407, -0.4777],\n",
            "         [-1.0177,  0.4820,  0.4854, -0.0420],\n",
            "         [-0.3229,  0.1419,  0.4297, -0.2084],\n",
            "         [-0.4102,  0.3390,  0.1622, -0.1316]]], grad_fn=<UnsafeViewBackward0>)\n"
          ]
        }
      ],
      "source": [
        "d_k = K.size(-1)\n",
        "scores = torch.matmul(Q, K.transpose(-2, -1)) / d_k**0.5\n",
        "\n",
        "# Apply mask: set future token scores to -inf\n",
        "scores = scores.masked_fill(mask == 0, float('-inf'))\n",
        "\n",
        "attn = F.softmax(scores, dim=-1)\n",
        "output = torch.matmul(attn, V)\n",
        "\n",
        "print('Attention weights (masked):\\n', attn)\n",
        "print('\\nOutput representations:\\n', output)"
      ],
      "id": "xTbdIbNdi7pw"
    },
    {
      "cell_type": "markdown",
      "metadata": {
        "id": "78YpiL7Ai7pw"
      },
      "source": [
        "## 5. Visualize Mask and Attention Weights"
      ],
      "id": "78YpiL7Ai7pw"
    },
    {
      "cell_type": "code",
      "execution_count": 6,
      "metadata": {
        "colab": {
          "base_uri": "https://localhost:8080/",
          "height": 407
        },
        "id": "rxZOwxL3i7pw",
        "outputId": "13194dea-0434-46be-bea5-d5a290ae7c99"
      },
      "outputs": [
        {
          "output_type": "display_data",
          "data": {
            "text/plain": [
              "<Figure size 1000x400 with 2 Axes>"
            ],
            "image/png": "[encoded data removed]"
          },
          "metadata": {}
        }
      ],
      "source": [
        "fig, axes = plt.subplots(1, 2, figsize=(10, 4))\n",
        "\n",
        "# Mask visualization\n",
        "axes[0].imshow(mask, cmap='gray')\n",
        "axes[0].set_title('Causal Mask (1 = visible, 0 = masked)')\n",
        "axes[0].set_xlabel('Key Tokens')\n",
        "axes[0].set_ylabel('Query Tokens')\n",
        "\n",
        "# Attention heatmap\n",
        "axes[1].imshow(attn[0].detach(), cmap='viridis')\n",
        "axes[1].set_title('Masked Attention Weights')\n",
        "axes[1].set_xlabel('Key Tokens')\n",
        "axes[1].set_ylabel('Query Tokens')\n",
        "\n",
        "plt.tight_layout()\n",
        "plt.show()"
      ],
      "id": "rxZOwxL3i7pw"
    },
    {
      "cell_type": "markdown",
      "metadata": {
        "id": "3JWrH2wdi7pw"
      },
      "source": [
        "## 6. Interpretation\n",
        "\n",
        "- The **mask** hides future tokens by setting their scores to negative infinity.\n",
        "- In the **attention heatmap**, upper-triangular areas are zero — no token attends to future ones.\n",
        "- Each token builds its context using only current and previous tokens.\n",
        "\n",
        "This ensures autoregressive behavior: GPT-like models generate one token at a time, maintaining causality."
      ],
      "id": "3JWrH2wdi7pw"
    },
    {
      "cell_type": "markdown",
      "metadata": {
        "id": "0f5KJuNli7pw"
      },
      "source": [
        "### References\n",
        "- Vaswani et al., *Attention Is All You Need* (2017)\n",
        "- Sebastian Raschka, *Build a Large Language Model (From Scratch)*, Chapter 6"
      ],
      "id": "0f5KJuNli7pw"
    }
  ],
  "metadata": {
    "kernelspec": {
      "display_name": "Python 3",
      "language": "python",
      "name": "python3"
    },
    "language_info": {
      "name": "python",
      "version": "3.10"
    },
    "colab": {
      "provenance": []
    }
  },
  "nbformat": 4,
  "nbformat_minor": 5
}
